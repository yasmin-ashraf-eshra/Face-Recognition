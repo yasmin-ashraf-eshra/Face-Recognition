{
  "cells": [
    {
      "cell_type": "code",
      "source": [
        "!unzip -n archive.zip"
      ],
      "metadata": {
        "id": "r0TMj5bkVzCz"
      },
      "execution_count": null,
      "outputs": []
    },
    {
      "cell_type": "markdown",
      "metadata": {
        "id": "pSf9qtJU-JwC"
      },
      "source": [
        "### 1)"
      ]
    },
    {
      "cell_type": "code",
      "source": [
        "from numpy.linalg import eig\n",
        "from numpy import linalg as LA\n",
        "from sklearn.neighbors import KNeighborsClassifier\n",
        "from sklearn.metrics import accuracy_score\n",
        "from sklearn.preprocessing import StandardScaler\n",
        "from random import seed\n",
        "from random import randrange\n",
        "from math import sqrt\n",
        "from sklearn.model_selection import train_test_split\n",
        "import matplotlib.pyplot as plt\n",
        "import numpy as np\n",
        "import time"
      ],
      "metadata": {
        "id": "n0Hf-mTcJL4a"
      },
      "execution_count": null,
      "outputs": []
    },
    {
      "cell_type": "code",
      "execution_count": null,
      "metadata": {
        "id": "GfL5uqvuj42m"
      },
      "outputs": [],
      "source": [
        "from google.colab.patches import cv2_imshow\n",
        "from PIL import Image\n",
        "from numpy import asarray\n",
        "import cv2\n",
        "import numpy as np\n",
        "numpydata = [[[0 for k in range(10304)] for j in range(10)]for i in range(40)]  \n",
        "## array of 40 x 10 = 400 cell each = vector of 10304 element\n",
        "for i in range(1,41):\n",
        "  for j in range(1,11):\n",
        "    path = \"/content/s\"+str(i)+\"/\"+str(j)+\".pgm\"\n",
        "    img = cv2.imread(path,0)  # 0 to indicate greyscale image\n",
        "    numpydata[i-1][j-1] = asarray(img).flatten() ## flatten to convert 2D array to a vector"
      ]
    },
    {
      "cell_type": "markdown",
      "metadata": {
        "id": "wiqb6UJkcaXj"
      },
      "source": [
        "### 2)"
      ]
    },
    {
      "cell_type": "code",
      "execution_count": null,
      "metadata": {
        "id": "R5sGvLfxNrJm"
      },
      "outputs": [],
      "source": [
        "D = np.array(np.zeros((400, 10304)))  ## initialization of the matrix 400 x 10304\n",
        "k = 0\n",
        "for i in range(40):\n",
        "  for j in range(10):\n",
        "    D[k] =  np.asmatrix(numpydata[i][j]) ## take each cell image from numpydata to be a row in the matrix\n",
        "    k = k + 1\n",
        "y = np.array(np.zeros((400, 1)))\n",
        "end = 0\n",
        "for i in range(40):  ## labeled vector 400 x 1 , range of values 1:40\n",
        "  start = end\n",
        "  end = 10 + 10*i\n",
        "  y[start:end] = i+1"
      ]
    },
    {
      "cell_type": "markdown",
      "metadata": {
        "id": "y9ACFFfLgmvN"
      },
      "source": [
        "### 3)"
      ]
    },
    {
      "cell_type": "code",
      "execution_count": null,
      "metadata": {
        "id": "hN6_umipd0mI"
      },
      "outputs": [],
      "source": [
        "# odd rows for training 200x10304\n",
        "# even  rows for testing 200x10304\n",
        "training=np.array(np.zeros((200,10304)))\n",
        "testing=np.array(np.zeros((200,10304)))\n",
        "ytesting=np.array(np.zeros((200,1)))\n",
        "ytraining=np.array(np.zeros((200,1)))\n",
        "j,k=0,0\n",
        "for i in range (400):\n",
        "  if (i%2==0):\n",
        "    testing[j]=D[i]\n",
        "    ytesting[j]=y[i]\n",
        "    j=j+1\n",
        "  else:\n",
        "    training[k]=D[i]\n",
        "    ytraining[k]=y[i]\n",
        "    k=k+1"
      ]
    },
    {
      "cell_type": "markdown",
      "source": [
        "###PCA:"
      ],
      "metadata": {
        "id": "rKCfDH2ifEAC"
      }
    },
    {
      "cell_type": "code",
      "source": [
        "startPCA = time.time()\n",
        "# computing the mean:\n",
        "meanVect = np.mean(training, axis=0)\n",
        "# computing centered data:\n",
        "zTrain = training - meanVect\n",
        "# computing covariance matrix:\n",
        "# covariance = zTranspose*z / n\n",
        "cov_matrix = np.dot(zTrain.T, zTrain)/10304\n",
        "# calculating eigen values and eigen vector:\n",
        "values, vector = np.linalg.eigh(cov_matrix)\n",
        "indx=values.argsort()[::-1]   #[::-1] to take all the list in reverse order\n",
        "values = values[indx]\n",
        "vector = vector[:,indx]\n",
        "# computing the fraction of total variance:\n",
        "total_eigenvalues = sum(values)\n",
        "r = np.array([0,0,0,0])\n",
        "alpha = np.array([0.8, 0.85, 0.9, 0.95])\n",
        "for x in range(4):\n",
        "  fraction = 0\n",
        "  for i in range(10304):\n",
        "    fraction += values[i]\n",
        "    if fraction/total_eigenvalues >= alpha[x]:\n",
        "      r[x]=i+1\n",
        "      break\n",
        "# # reduced basis:\n",
        "U1 = vector[:,:r[0]]\n",
        "U2 = vector[:,:r[1]]\n",
        "U3 = vector[:,:r[2]]\n",
        "U4 = vector[:,:r[3]]\n",
        "endPCA = time.time()\n",
        "print(\"The time taken by PCA: \", endPCA - startPCA, \"seconds\")"
      ],
      "metadata": {
        "id": "4x8CCMOBfGUR",
        "colab": {
          "base_uri": "https://localhost:8080/"
        },
        "outputId": "7950b4b8-52ea-43ff-d6cf-720461db7fb0"
      },
      "execution_count": null,
      "outputs": [
        {
          "output_type": "stream",
          "name": "stdout",
          "text": [
            "The time taken by PCA:  305.0734724998474 seconds\n"
          ]
        }
      ]
    },
    {
      "cell_type": "code",
      "source": [
        "#b) projecting the training set:\n",
        "ProjTrain1 = np.dot(zTrain, U1)\n",
        "ProjTrain2 = np.dot(zTrain, U2)\n",
        "ProjTrain3 = np.dot(zTrain, U3)\n",
        "ProjTrain4 = np.dot(zTrain, U4)\n",
        "# projecting the test set:\n",
        "# computing the mean of test:\n",
        "meanVectTest = np.mean(testing, axis=0)\n",
        "# computing centered data:\n",
        "zTest = testing - meanVectTest\n",
        "ProjTest1 = np.dot(zTest, U1)\n",
        "ProjTest2 = np.dot(zTest, U2)\n",
        "ProjTest3 = np.dot(zTest, U3)\n",
        "ProjTest4 = np.dot(zTest, U4)"
      ],
      "metadata": {
        "id": "sZu_suhNnQZH"
      },
      "execution_count": null,
      "outputs": []
    },
    {
      "cell_type": "code",
      "source": [
        "accuracy_pca = np.array([0,0,0,0])\n",
        "knn_pca = KNeighborsClassifier(n_neighbors=1,weights='distance')\n",
        "knn_pca.fit(ProjTrain1, ytraining)\n",
        "pca_pred1 = knn_pca.predict(ProjTest1)\n",
        "accuracy_pca1 = accuracy_score(ytesting, pca_pred1)\n",
        "\n",
        "knn_pca.fit(ProjTrain2, ytraining)\n",
        "pca_pred2 = knn_pca.predict(ProjTest2)\n",
        "accuracy_pca2 = accuracy_score(ytesting, pca_pred2)\n",
        "\n",
        "knn_pca.fit(ProjTrain3, ytraining)\n",
        "pca_pred3 = knn_pca.predict(ProjTest3)\n",
        "accuracy_pca3 = accuracy_score(ytesting, pca_pred3)\n",
        "\n",
        "knn_pca.fit(ProjTrain4, ytraining)\n",
        "pca_pred4 = knn_pca.predict(ProjTest4)\n",
        "accuracy_pca4 = accuracy_score(ytesting, pca_pred4)\n",
        "\n",
        "print(\"At alpha = 0.8, Accuracy:\", accuracy_pca1)\n",
        "print(\"At alpha = 0.85, Accuracy:\", accuracy_pca2)\n",
        "print(\"At alpha = 0.9, Accuracy:\", accuracy_pca3)\n",
        "print(\"At alpha = 0.95, Accuracy:\", accuracy_pca4)"
      ],
      "metadata": {
        "id": "R-1G2nuSJDJ-",
        "colab": {
          "base_uri": "https://localhost:8080/"
        },
        "outputId": "8c1e6dce-04de-493b-8602-1f7c19846b03"
      },
      "execution_count": null,
      "outputs": [
        {
          "output_type": "stream",
          "name": "stdout",
          "text": [
            "At alpha = 0.8, Accuracy: 0.93\n",
            "At alpha = 0.85, Accuracy: 0.935\n",
            "At alpha = 0.9, Accuracy: 0.94\n",
            "At alpha = 0.95, Accuracy: 0.935\n"
          ]
        },
        {
          "output_type": "stream",
          "name": "stderr",
          "text": [
            "/usr/local/lib/python3.9/dist-packages/sklearn/neighbors/_classification.py:215: DataConversionWarning: A column-vector y was passed when a 1d array was expected. Please change the shape of y to (n_samples,), for example using ravel().\n",
            "  return self._fit(X, y)\n",
            "/usr/local/lib/python3.9/dist-packages/sklearn/neighbors/_classification.py:215: DataConversionWarning: A column-vector y was passed when a 1d array was expected. Please change the shape of y to (n_samples,), for example using ravel().\n",
            "  return self._fit(X, y)\n",
            "/usr/local/lib/python3.9/dist-packages/sklearn/neighbors/_classification.py:215: DataConversionWarning: A column-vector y was passed when a 1d array was expected. Please change the shape of y to (n_samples,), for example using ravel().\n",
            "  return self._fit(X, y)\n",
            "/usr/local/lib/python3.9/dist-packages/sklearn/neighbors/_classification.py:215: DataConversionWarning: A column-vector y was passed when a 1d array was expected. Please change the shape of y to (n_samples,), for example using ravel().\n",
            "  return self._fit(X, y)\n"
          ]
        }
      ]
    },
    {
      "cell_type": "markdown",
      "source": [
        "##LDA:"
      ],
      "metadata": {
        "id": "3Xfz0LtK_-Lk"
      }
    },
    {
      "cell_type": "code",
      "source": [
        "startLDA = time.time()\n",
        "#class data\n",
        "classlist=[]\n",
        "for i in range (201):\n",
        "  if (i%5==0 and i!=0):\n",
        "    classlist.append(training[i-5:i,:])\n",
        "sb=np.zeros((10304,10304))\n",
        "sw=np.zeros((10304,10304))\n",
        "b=np.zeros((1,10304))\n",
        "overall_mean=np.mean(training,axis=0) #mean of training (𝜇) 1*10304\n",
        "for i in range (40):\n",
        "  mean=np.mean(classlist[i],axis=0)          # mean for class i (𝜇𝑘) 1*10304\n",
        "  #sb\n",
        "  b= mean-overall_mean                       #(𝜇𝑘−𝜇) 1*10304\n",
        "  b.resize(10304,1)                             \n",
        "  btrans=np.transpose(b)                # 1*10304\n",
        "  sb+=5*(b@btrans)                        #(10304*1)*(1*10304)=10304*10304\n",
        "  #sw\n",
        "  z=classlist[i]-mean                         #centralized data for class i\n",
        "  ztrans= np.transpose(z)\n",
        "  sw+=ztrans@z\n",
        "#get sw inverse\n",
        "sinv=np.linalg.inv(sw)\n",
        "# get sinv*sb\n",
        "x=sinv@sb\n",
        "#get eigenvalues and eigenvectors\n",
        "eigenvalues,eigenvectors=np.linalg.eigh(x)\n",
        "idx=eigenvalues.argsort()[::-1]   #[::-1] to take all the list in reverse order\n",
        "eigenvalues = eigenvalues[idx]\n",
        "eigenvectors = eigenvectors[:,idx]\n",
        "endLDA = time.time()\n",
        "print(\"The time taken by LDA = \", endLDA - startLDA, \"seconds\")"
      ],
      "metadata": {
        "id": "fTQ1fUFvACQf",
        "colab": {
          "base_uri": "https://localhost:8080/"
        },
        "outputId": "9f896d89-abbb-41fb-d629-abe3930e5cf4"
      },
      "execution_count": null,
      "outputs": [
        {
          "output_type": "stream",
          "name": "stdout",
          "text": [
            "The time taken by LDA =  605.8511173725128 seconds\n"
          ]
        }
      ]
    },
    {
      "cell_type": "code",
      "source": [],
      "metadata": {
        "id": "JLAQsj5eAutD"
      },
      "execution_count": null,
      "outputs": []
    },
    {
      "cell_type": "code",
      "source": [],
      "metadata": {
        "id": "E274OXblAzZs"
      },
      "execution_count": null,
      "outputs": []
    },
    {
      "cell_type": "code",
      "source": [],
      "metadata": {
        "id": "c1MPou3gA2R4"
      },
      "execution_count": null,
      "outputs": []
    },
    {
      "cell_type": "code",
      "source": [
        "projection=eigenvectors[:,0:39] # take first 39 eignvectors U 10304*39\n",
        "#project training set using projection matrix\n",
        "ztraining=training-overall_mean #200x10304\n",
        "projecttrain=ztraining@projection #200x39\n",
        "ztesting=testing-overall_mean\n",
        "projecttest=ztesting@projection #200x39"
      ],
      "metadata": {
        "id": "rIUPp9r5A6aW"
      },
      "execution_count": null,
      "outputs": []
    },
    {
      "cell_type": "code",
      "source": [
        "#first Nearest Neighbor to determine the class labels\n",
        "knn_lda = KNeighborsClassifier(n_neighbors=1,weights='distance')\n",
        "knn_lda.fit(projecttrain, ytraining)\n",
        "lda_pred = knn_lda.predict(projecttest)\n",
        "accuracy_lda = accuracy_score(ytesting, lda_pred)"
      ],
      "metadata": {
        "id": "ZlncywTMLnYU",
        "colab": {
          "base_uri": "https://localhost:8080/"
        },
        "outputId": "842d64f8-29d6-48de-cf4a-c9f31e448354"
      },
      "execution_count": null,
      "outputs": [
        {
          "output_type": "stream",
          "name": "stderr",
          "text": [
            "/usr/local/lib/python3.9/dist-packages/sklearn/neighbors/_classification.py:215: DataConversionWarning: A column-vector y was passed when a 1d array was expected. Please change the shape of y to (n_samples,), for example using ravel().\n",
            "  return self._fit(X, y)\n"
          ]
        }
      ]
    },
    {
      "cell_type": "code",
      "source": [
        "print(\"Between class scatter matrix sb=\\n\",sb,\"\\n\")"
      ],
      "metadata": {
        "id": "lhjrYlivA-Hm"
      },
      "execution_count": null,
      "outputs": []
    },
    {
      "cell_type": "code",
      "source": [
        "print(\"within class scatter matrix sw=\\n\",sw,\"\\n\")"
      ],
      "metadata": {
        "id": "s0Daw2G2c48h"
      },
      "execution_count": null,
      "outputs": []
    },
    {
      "cell_type": "code",
      "source": [
        "print(\"eigenvectors matrix U=\\n\",eigenvectors,\"\\n\") #10304x10304"
      ],
      "metadata": {
        "id": "ayyUVQ7Wc7bW"
      },
      "execution_count": null,
      "outputs": []
    },
    {
      "cell_type": "code",
      "source": [
        "print(\"projection matrix p=\\n\",projection,\"\\n\")     #10304x39"
      ],
      "metadata": {
        "id": "Zpm6tTZoc9E_"
      },
      "execution_count": null,
      "outputs": []
    },
    {
      "cell_type": "code",
      "source": [
        "print(\"project train set =\\n\",projecttrain,\"\\n\")"
      ],
      "metadata": {
        "id": "5SuC426vc--f"
      },
      "execution_count": null,
      "outputs": []
    },
    {
      "cell_type": "code",
      "source": [
        "print(\"project test set =\\n\",projecttest,\"\\n\")"
      ],
      "metadata": {
        "id": "Lr5Y7ODqdBLI"
      },
      "execution_count": null,
      "outputs": []
    },
    {
      "cell_type": "code",
      "source": [
        "print(\"Accuracy of LDA k=1 :\\n\", accuracy_lda*100)"
      ],
      "metadata": {
        "id": "1cbgx40VdC1O",
        "colab": {
          "base_uri": "https://localhost:8080/"
        },
        "outputId": "643b1fe1-59ee-410e-cf58-83504ee40775"
      },
      "execution_count": null,
      "outputs": [
        {
          "output_type": "stream",
          "name": "stdout",
          "text": [
            "Accuracy of LDA k=1 :\n",
            " 94.5\n"
          ]
        }
      ]
    },
    {
      "cell_type": "markdown",
      "source": [
        "##K-NN:"
      ],
      "metadata": {
        "id": "VFHKabcE-QYd"
      }
    },
    {
      "cell_type": "code",
      "source": [
        "x_train = training\n",
        "y_train = ytraining.ravel()\n",
        "x_test = testing\n",
        "y_test = ytesting.ravel()\n",
        "\n",
        "# Loop over K values\n",
        "knn_array = [1,3,5,7]\n",
        "train_accuracy = np.empty(len(knn_array))\n",
        "test_accuracy = np.empty(len(knn_array))\n",
        "test_accuracyLDA = np.empty(len(knn_array))\n",
        "test_accuracyPCA =  np.zeros((4,4))\n",
        "\n",
        "for i, k in enumerate(knn_array):\n",
        "\tknn = KNeighborsClassifier(n_neighbors=k)\n",
        "\tknn.fit(x_train, y_train)\t\n",
        "\ty_pred = knn.predict(x_test)\n",
        "\ttest_accuracy[i] = accuracy_score(y_test, y_pred)*100 \n",
        "\n",
        "# Generate plot  KNN\n",
        "for i in range(4):\n",
        "\tprint(\"Accuracy @ K=\",knn_array[i],\":\", test_accuracy[i],\"%\")\n",
        "plt.plot(knn_array, test_accuracy, label = 'Testing Accuracy')\n",
        "plt.legend()\n",
        "plt.xlabel('K value')\n",
        "plt.ylabel('Accuracy')\n",
        "plt.grid()\n",
        "plt.show()"
      ],
      "metadata": {
        "id": "najrbEv1yqgP",
        "colab": {
          "base_uri": "https://localhost:8080/",
          "height": 348
        },
        "outputId": "c52b6fba-0084-4aac-a69a-01c50d605e3f"
      },
      "execution_count": null,
      "outputs": [
        {
          "output_type": "stream",
          "name": "stdout",
          "text": [
            "Accuracy @ K= 1 : 94.5 %\n",
            "Accuracy @ K= 3 : 85.5 %\n",
            "Accuracy @ K= 5 : 81.5 %\n",
            "Accuracy @ K= 7 : 74.5 %\n"
          ]
        },
        {
          "output_type": "display_data",
          "data": {
            "text/plain": [
              "<Figure size 432x288 with 1 Axes>"
            ],
            "image/png": "[encoded data removed]"
          },
          "metadata": {
            "needs_background": "light"
          }
        }
      ]
    },
    {
      "cell_type": "code",
      "source": [
        "for i, k in enumerate(knn_array):\n",
        "\tknnLDA = KNeighborsClassifier(n_neighbors=k)\n",
        "\tknnLDA.fit(projecttrain, ytraining.ravel())\n",
        "\ty_predLDA = knnLDA.predict(projecttest)\n",
        "\ttest_accuracyLDA[i] = accuracy_score(ytesting.ravel(), y_predLDA)*100 \n",
        "  \n",
        "# Generate plot  LDA\n",
        "for i in range(4):\n",
        "\tprint(\"LDA Accuracy @ K=\",knn_array[i],\":\", test_accuracyLDA[i],\"%\")\n",
        "plt.plot(knn_array, test_accuracyLDA, label = 'Testing LDA Accuracy')\n",
        "plt.legend()\n",
        "plt.xlabel('K value')\n",
        "plt.ylabel('LDA Accuracy')\n",
        "plt.grid()\n",
        "plt.show()"
      ],
      "metadata": {
        "colab": {
          "base_uri": "https://localhost:8080/",
          "height": 348
        },
        "id": "-mkC8E8xmtHH",
        "outputId": "6fab4102-baa8-4067-bdac-63acef2d3bad"
      },
      "execution_count": null,
      "outputs": [
        {
          "output_type": "stream",
          "name": "stdout",
          "text": [
            "LDA Accuracy @ K= 1 : 94.5 %\n",
            "LDA Accuracy @ K= 3 : 87.0 %\n",
            "LDA Accuracy @ K= 5 : 84.0 %\n",
            "LDA Accuracy @ K= 7 : 79.0 %\n"
          ]
        },
        {
          "output_type": "display_data",
          "data": {
            "text/plain": [
              "<Figure size 432x288 with 1 Axes>"
            ],
            "image/png": "[encoded data removed]"
          },
          "metadata": {
            "needs_background": "light"
          }
        }
      ]
    },
    {
      "cell_type": "code",
      "source": [
        "for i, k in enumerate(knn_array):\n",
        "\tknnPCA = KNeighborsClassifier(n_neighbors=k)\n",
        "\tknnPCA.fit(ProjTrain1, ytraining.ravel())\n",
        "\tPCApred1 = knnPCA.predict(ProjTest1)\n",
        "\ttest_accuracyPCA[i,0] = accuracy_score(ytesting, PCApred1)*100\n",
        "\n",
        "\tknnPCA = KNeighborsClassifier(n_neighbors=k)\n",
        "\tknnPCA.fit(ProjTrain2, ytraining.ravel())\n",
        "\tPCApred2 = knnPCA.predict(ProjTest2)\n",
        "\ttest_accuracyPCA[i,1] = accuracy_score(ytesting, PCApred2)*100\n",
        " \n",
        "\tknnPCA = KNeighborsClassifier(n_neighbors=k)\n",
        "\tknnPCA.fit(ProjTrain3, ytraining.ravel())\n",
        "\tPCApred3 = knnPCA.predict(ProjTest3)\n",
        "\ttest_accuracyPCA[i,2] = accuracy_score(ytesting, PCApred3)*100\n",
        "\n",
        "\tknnPCA = KNeighborsClassifier(n_neighbors=k)\n",
        "\tknnPCA.fit(ProjTrain4, ytraining.ravel())\n",
        "\tPCApred4 = knnPCA.predict(ProjTest4)\n",
        "\ttest_accuracyPCA[i,3] = accuracy_score(ytesting, PCApred4)*100\n",
        "  \n",
        "# Generate plot  PCA\n",
        "for i in range(4): #k \n",
        "\tfor j in range(4):\n",
        "\t\tprint(\"PCA Accuracy @ alpha=\",alpha[j],\"@ K=\",knn_array[i],\":\", test_accuracyPCA[i][j],\"%\")\n",
        "\tplt.plot(alpha,test_accuracyPCA[i,:], label = 'Testing PCA Accuracy')\n",
        "\tplt.legend()\n",
        "\tplt.xlabel('alpha value')\n",
        "\tplt.ylabel('PCA Accuracy')\n",
        "\tplt.grid()\n",
        "\tplt.show()"
      ],
      "metadata": {
        "colab": {
          "base_uri": "https://localhost:8080/",
          "height": 1000
        },
        "id": "9LX99XGIltO9",
        "outputId": "a3d9522b-2d58-44e9-ba84-5a12828cd6bb"
      },
      "execution_count": null,
      "outputs": [
        {
          "output_type": "stream",
          "name": "stdout",
          "text": [
            "PCA Accuracy @ alpha= 0.8 @ K= 1 : 93.0 %\n",
            "PCA Accuracy @ alpha= 0.85 @ K= 1 : 93.5 %\n",
            "PCA Accuracy @ alpha= 0.9 @ K= 1 : 94.0 %\n",
            "PCA Accuracy @ alpha= 0.95 @ K= 1 : 93.5 %\n"
          ]
        },
        {
          "output_type": "display_data",
          "data": {
            "text/plain": [
              "<Figure size 432x288 with 1 Axes>"
            ],
            "image/png": "[encoded data removed]"
          },
          "metadata": {
            "needs_background": "light"
          }
        },
        {
          "output_type": "stream",
          "name": "stdout",
          "text": [
            "PCA Accuracy @ alpha= 0.8 @ K= 3 : 85.0 %\n",
            "PCA Accuracy @ alpha= 0.85 @ K= 3 : 85.5 %\n",
            "PCA Accuracy @ alpha= 0.9 @ K= 3 : 84.5 %\n",
            "PCA Accuracy @ alpha= 0.95 @ K= 3 : 85.0 %\n"
          ]
        },
        {
          "output_type": "display_data",
          "data": {
            "text/plain": [
              "<Figure size 432x288 with 1 Axes>"
            ],
            "image/png": "[encoded data removed]"
          },
          "metadata": {
            "needs_background": "light"
          }
        },
        {
          "output_type": "stream",
          "name": "stdout",
          "text": [
            "PCA Accuracy @ alpha= 0.8 @ K= 5 : 82.0 %\n",
            "PCA Accuracy @ alpha= 0.85 @ K= 5 : 83.5 %\n",
            "PCA Accuracy @ alpha= 0.9 @ K= 5 : 81.5 %\n",
            "PCA Accuracy @ alpha= 0.95 @ K= 5 : 81.0 %\n"
          ]
        },
        {
          "output_type": "display_data",
          "data": {
            "text/plain": [
              "<Figure size 432x288 with 1 Axes>"
            ],
            "image/png": "[encoded data removed]"
          },
          "metadata": {
            "needs_background": "light"
          }
        },
        {
          "output_type": "stream",
          "name": "stdout",
          "text": [
            "PCA Accuracy @ alpha= 0.8 @ K= 7 : 78.0 %\n",
            "PCA Accuracy @ alpha= 0.85 @ K= 7 : 77.0 %\n",
            "PCA Accuracy @ alpha= 0.9 @ K= 7 : 75.0 %\n",
            "PCA Accuracy @ alpha= 0.95 @ K= 7 : 73.0 %\n"
          ]
        },
        {
          "output_type": "display_data",
          "data": {
            "text/plain": [
              "<Figure size 432x288 with 1 Axes>"
            ],
            "image/png": "[encoded data removed]"
          },
          "metadata": {
            "needs_background": "light"
          }
        }
      ]
    }
  ],
  "metadata": {
    "colab": {
      "provenance": []
    },
    "kernelspec": {
      "display_name": "Python 3",
      "name": "python3"
    },
    "language_info": {
      "name": "python"
    }
  },
  "nbformat": 4,
  "nbformat_minor": 0
}